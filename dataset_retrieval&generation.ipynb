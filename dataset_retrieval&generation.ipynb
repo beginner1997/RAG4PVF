{
 "cells": [
  {
   "cell_type": "code",
   "execution_count": null,
   "id": "d1b31920",
   "metadata": {},
   "outputs": [],
   "source": [
    "import numpy as np\n",
    "\n",
    "def find_most_similar_sequence(PV_data, time_stamps, x, pred_len):\n",
    "\n",
    "    seq_len = len(x)\n",
    "    total_len = len(PV_data)\n",
    "    min_mse = np.inf\n",
    "    best_start = 0\n",
    "    \n",
    "    for i in range(total_len - seq_len - pred_len + 1):\n",
    "        candidate_seq = PV_data[i:i+seq_len]\n",
    "        mse = np.mean((x - candidate_seq) ** 2)\n",
    "        if mse < min_mse:\n",
    "            min_mse = mse\n",
    "            best_start = i\n",
    "    \n",
    "    R_x = PV_data[best_start:best_start+seq_len]\n",
    "    Time_R_x = time_stamps[best_start:best_start+seq_len]\n",
    "    R_x_next_step = PV_data[best_start+seq_len:best_start+seq_len+pred_len]\n",
    "    Time_R_x_next_step = time_stamps[best_start+seq_len:best_start+seq_len+pred_len]\n",
    "\n",
    "    return R_x, Time_R_x, R_x_next_step, Time_R_x_next_step"
   ]
  },
  {
   "cell_type": "code",
   "execution_count": null,
   "id": "040f09cf",
   "metadata": {},
   "outputs": [],
   "source": [
    "import pandas as pd\n",
    "df = pd.read_csv('./dataset_hour_csv/solar_state_1_hour.csv')"
   ]
  },
  {
   "cell_type": "code",
   "execution_count": null,
   "id": "78a75a79",
   "metadata": {},
   "outputs": [],
   "source": [
    "# 分割数据\n",
    "PV_data = df['Power (MW)'].values\n",
    "time_stamps = df['date'].values\n",
    "\n",
    "retrival_pool = PV_data[:int(len(PV_data)*0.5)]\n",
    "retrical_time_stamps = time_stamps[:int(len(PV_data)*0.5)]\n",
    "\n",
    "train_pv_data = PV_data[int(len(PV_data)*0.5):int(len(PV_data)*0.8)]\n",
    "train_date = time_stamps[int(len(PV_data)*0.5):int(len(PV_data)*0.8)]\n",
    "\n",
    "test_pv_data = PV_data[int(len(PV_data)*0.8):]\n",
    "test_date = time_stamps[int(len(PV_data)*0.8):]\n",
    "\n",
    "input_len = 48\n",
    "pred_len = 24\n"
   ]
  },
  {
   "cell_type": "code",
   "execution_count": 4,
   "id": "4c699427",
   "metadata": {},
   "outputs": [
    {
     "data": {
      "text/plain": [
       "(17544,)"
      ]
     },
     "execution_count": 4,
     "metadata": {},
     "output_type": "execute_result"
    }
   ],
   "source": [
    "PV_data.shape"
   ]
  },
  {
   "cell_type": "code",
   "execution_count": 5,
   "id": "54b3df28",
   "metadata": {},
   "outputs": [],
   "source": [
    "# 训练集处理\n",
    "train_input = []\n",
    "train_input_time = []\n",
    "train_retrival = []\n",
    "train_retrival_time = []\n",
    "train_retrival_label = []\n",
    "train_retrival_label_time = []\n",
    "train_label = []\n",
    "train_label_time = []\n",
    "\n",
    "for i in range(len(train_pv_data) - input_len - pred_len + 1):\n",
    "    x = train_pv_data[i:i+input_len]\n",
    "    label = train_pv_data[i+input_len:i+input_len+pred_len]\n",
    "    label_time = train_date[i+input_len:i+input_len+pred_len]\n",
    "    tx = train_date[i:i+input_len]\n",
    "    R_x, Time_R_x, R_x_next_step, Time_R_x_next_step = find_most_similar_sequence(retrival_pool, retrical_time_stamps, x, pred_len)\n",
    "    train_input.append(x)\n",
    "    train_input_time.append(tx)\n",
    "    train_retrival.append(R_x)\n",
    "    train_retrival_time.append(Time_R_x)\n",
    "    train_retrival_label.append(R_x_next_step)\n",
    "    train_retrival_label_time.append(Time_R_x_next_step)\n",
    "    train_label.append(label)\n",
    "    train_label_time.append(label_time)\n",
    "    \n",
    "train_input = np.stack(train_input)\n",
    "train_input_time = np.stack(train_input_time)\n",
    "train_retrival = np.stack(train_retrival)\n",
    "train_retrival_time = np.stack(train_retrival_time)\n",
    "train_retrival_label = np.stack(train_retrival_label)\n",
    "train_retrival_label_time = np.stack(train_retrival_label_time)\n",
    "train_label = np.stack(train_label)\n",
    "train_label_time = np.stack(train_label_time)"
   ]
  },
  {
   "cell_type": "code",
   "execution_count": null,
   "id": "e382dbb7",
   "metadata": {},
   "outputs": [],
   "source": [
    "np.savez('./solar_1_48_24/train_dataset.npz',\n",
    "        train_input=train_input,\n",
    "        train_input_time=train_input_time,\n",
    "        train_retrival=train_retrival,\n",
    "        train_retrival_time=train_retrival_time,\n",
    "        train_retrival_label=train_retrival_label,\n",
    "        train_retrival_label_time=train_retrival_label_time,\n",
    "        train_label=train_label,\n",
    "        train_label_time=train_label_time\n",
    ")"
   ]
  },
  {
   "cell_type": "code",
   "execution_count": 7,
   "id": "93c8043c",
   "metadata": {},
   "outputs": [],
   "source": [
    "# 测试集处理\n",
    "# 训练集处理\n",
    "test_input = []\n",
    "test_input_time = []\n",
    "test_retrival = []\n",
    "test_retrival_time = []\n",
    "test_retrival_label = []\n",
    "test_retrival_label_time = []\n",
    "test_label = []\n",
    "test_label_time = []\n",
    "\n",
    "for i in range(len(test_pv_data) - input_len - pred_len + 1):\n",
    "    x = test_pv_data[i:i+input_len]\n",
    "    label = test_pv_data[i+input_len:i+input_len+pred_len]\n",
    "    label_time = test_date[i+input_len:i+input_len+pred_len]\n",
    "    tx = test_date[i:i+input_len]\n",
    "    R_x, Time_R_x, R_x_next_step, Time_R_x_next_step = find_most_similar_sequence(retrival_pool, retrical_time_stamps, x, pred_len)\n",
    "    test_input.append(x)\n",
    "    test_input_time.append(tx)\n",
    "    test_retrival.append(R_x)\n",
    "    test_retrival_time.append(Time_R_x)\n",
    "    test_retrival_label.append(R_x_next_step)\n",
    "    test_retrival_label_time.append(Time_R_x_next_step)\n",
    "    test_label.append(label)\n",
    "    test_label_time.append(label_time)\n",
    "\n",
    "    \n",
    "test_input = np.stack(test_input)\n",
    "test_input_time = np.stack(test_input_time)\n",
    "test_retrival = np.stack(test_retrival)\n",
    "test_retrival_time = np.stack(test_retrival_time)\n",
    "test_retrival_label = np.stack(test_retrival_label)\n",
    "test_retrival_label_time = np.stack(test_retrival_label_time)\n",
    "test_label = np.stack(test_label)\n",
    "test_label_time = np.stack(test_label_time)"
   ]
  },
  {
   "cell_type": "code",
   "execution_count": null,
   "id": "85efdaa4",
   "metadata": {},
   "outputs": [],
   "source": [
    "np.savez('./solar_1_48_24/test_dataset.npz',\n",
    "        test_input=test_input,\n",
    "        test_input_time=test_input_time,\n",
    "        test_retrival=test_retrival,\n",
    "        test_retrival_time=test_retrival_time,\n",
    "        test_retrival_label=test_retrival_label,\n",
    "        test_retrival_label_time=test_retrival_label_time,\n",
    "        test_label=test_label,\n",
    "        test_label_time=test_label_time\n",
    "         )"
   ]
  }
 ],
 "metadata": {
  "kernelspec": {
   "display_name": "pytorch",
   "language": "python",
   "name": "python3"
  },
  "language_info": {
   "codemirror_mode": {
    "name": "ipython",
    "version": 3
   },
   "file_extension": ".py",
   "mimetype": "text/x-python",
   "name": "python",
   "nbconvert_exporter": "python",
   "pygments_lexer": "ipython3",
   "version": "3.9.19"
  }
 },
 "nbformat": 4,
 "nbformat_minor": 5
}
